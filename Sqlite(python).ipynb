{
  "nbformat": 4,
  "nbformat_minor": 0,
  "metadata": {
    "colab": {
      "name": "Sqlite.ipynb",
      "provenance": [],
      "collapsed_sections": []
    },
    "kernelspec": {
      "name": "python3",
      "display_name": "Python 3"
    },
    "language_info": {
      "name": "python"
    }
  },
  "cells": [
    {
      "cell_type": "code",
      "execution_count": 1,
      "metadata": {
        "id": "tXPjXPKvdJdQ"
      },
      "outputs": [],
      "source": [
        "import sqlite3\n",
        "\n",
        "conn = sqlite3.connect('test.db')"
      ]
    },
    {
      "cell_type": "code",
      "source": [
        "import sqlite3\n",
        "\n",
        "conn = sqlite3.connect('test.db')\n",
        "\n",
        "conn.execute('''CREATE TABLE Students (\n",
        "  Id INT PRIMARY KEY NOT NULL, \n",
        "  Name VARCHAR(30) NOT NULL, \n",
        "  DoB DATE NOT NULL, \n",
        "  Degree VARCHAR(20)); ''')\n",
        "  \n",
        "conn.close()"
      ],
      "metadata": {
        "id": "FvVZna0ZdZht"
      },
      "execution_count": 5,
      "outputs": []
    },
    {
      "cell_type": "code",
      "source": [
        "import sqlite3\n",
        "\n",
        "conn = sqlite3.connect('test.db')\n",
        "\n",
        "conn.execute( \"INSERT INTO Students VALUES (1, 'Ashok', '2000-10-27', 'M.Tech')\" )\n",
        "\n",
        "conn.execute( \"INSERT INTO Students (Name, Id, Degree, DoB) VALUES ('Binu', 2, 'M.Tech', '2000-07-15')\" )\n",
        "\n",
        "conn.execute( \"INSERT INTO Students (Id, Name, Degree, DoB) \\\n",
        "        VALUES (3, 'Caesar', 'B.Tech', '2002-02-09')\" )\n",
        "\n",
        "conn.execute( \"INSERT INTO Students VALUES \\\n",
        "        (4, 'Daniel', '2002-02-09', 'M.C.A')\" )\n",
        "        \n",
        "conn.commit()\n",
        "\n",
        "conn.close()"
      ],
      "metadata": {
        "id": "ycB9tyccdtZr"
      },
      "execution_count": 6,
      "outputs": []
    },
    {
      "cell_type": "code",
      "source": [
        "import sqlite3\n",
        "\n",
        "conn = sqlite3.connect('test.db')\n",
        "\n",
        "cursor = conn.execute(\"SELECT Id, Name, DoB, Degree FROM Students\")\n",
        "for row in cursor:\n",
        "   print( \"Id = \", row[0], \" | Name = \", row[1], \" | DoB = \", row[2], \" | Degree = \", row[3] )\n",
        "   # print( row )  # Comment out above and uncomment this, check the output\n",
        "   \n",
        "conn.close()"
      ],
      "metadata": {
        "colab": {
          "base_uri": "https://localhost:8080/"
        },
        "id": "gBwVIcrvdy9U",
        "outputId": "fa0a415d-c99b-4e1c-d156-07c6798e5a53"
      },
      "execution_count": 7,
      "outputs": [
        {
          "output_type": "stream",
          "name": "stdout",
          "text": [
            "Id =  1  | Name =  Ashok  | DoB =  2000-10-27  | Degree =  M.Tech\n",
            "Id =  2  | Name =  Binu  | DoB =  2000-07-15  | Degree =  M.Tech\n",
            "Id =  3  | Name =  Caesar  | DoB =  2002-02-09  | Degree =  B.Tech\n",
            "Id =  4  | Name =  Daniel  | DoB =  2002-02-09  | Degree =  M.C.A\n"
          ]
        }
      ]
    },
    {
      "cell_type": "code",
      "source": [
        "import sqlite3\n",
        "\n",
        "conn = sqlite3.connect('test.db')\n",
        "\n",
        "conn.execute(\"UPDATE Students SET Degree = 'B.E.' WHERE Degree = 'B.Tech'\")\n",
        "conn.commit()\n",
        "print(\"Total number of rows updated :\", conn.total_changes)\n",
        "\n",
        "cursor = conn.execute(\"SELECT Id, Name, DoB, Degree FROM Students WHERE Degree = 'B.E.'\")\n",
        "for row in cursor:\n",
        "   print(row)\n",
        "\n",
        "conn.close()"
      ],
      "metadata": {
        "colab": {
          "base_uri": "https://localhost:8080/"
        },
        "id": "qrA5xtHYd1rZ",
        "outputId": "fd8cd493-f4bc-4ca9-bc00-41626559997d"
      },
      "execution_count": 8,
      "outputs": [
        {
          "output_type": "stream",
          "name": "stdout",
          "text": [
            "Total number of rows updated : 1\n",
            "(3, 'Caesar', '2002-02-09', 'B.E.')\n"
          ]
        }
      ]
    },
    {
      "cell_type": "code",
      "source": [
        "import sqlite3\n",
        "\n",
        "conn = sqlite3.connect('test.db')\n",
        "\n",
        "conn.execute(\"DELETE FROM Students WHERE Id = 4\")\n",
        "conn.commit()\n",
        "print(\"Total number of rows deleted :\", conn.total_changes)\n",
        "\n",
        "cursor = conn.execute(\"SELECT * FROM Students\")\n",
        "for row in cursor:\n",
        "   print(row[0], row[1])\n",
        "\n",
        "conn.close()"
      ],
      "metadata": {
        "colab": {
          "base_uri": "https://localhost:8080/"
        },
        "id": "fcInY2q3d4fq",
        "outputId": "169e78d5-1b04-46ba-93a7-00ae6886f247"
      },
      "execution_count": 9,
      "outputs": [
        {
          "output_type": "stream",
          "name": "stdout",
          "text": [
            "Total number of rows deleted : 1\n",
            "1 Ashok\n",
            "2 Binu\n",
            "3 Caesar\n"
          ]
        }
      ]
    }
  ]
}